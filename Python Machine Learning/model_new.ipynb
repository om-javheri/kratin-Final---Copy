{
 "cells": [
  {
   "cell_type": "code",
   "execution_count": 64,
   "id": "3cbe1e4e",
   "metadata": {},
   "outputs": [],
   "source": [
    "import pandas as pd\n",
    "from sklearn.model_selection import train_test_split\n",
    "from sklearn.ensemble import RandomForestRegressor\n",
    "from sklearn.metrics import mean_squared_error, mean_absolute_error, roc_curve, auc, accuracy_score\n",
    "import numpy as np\n",
    "import matplotlib.pyplot as plt\n",
    "import joblib\n"
   ]
  },
  {
   "cell_type": "code",
   "execution_count": 40,
   "id": "dbf3f8af",
   "metadata": {},
   "outputs": [
    {
     "name": "stderr",
     "output_type": "stream",
     "text": [
      "C:\\ProgramData\\Anaconda3\\lib\\site-packages\\ipykernel_launcher.py:4: FutureWarning: In a future version of pandas all arguments of DataFrame.drop except for the argument 'labels' will be keyword-only\n",
      "  after removing the cwd from sys.path.\n"
     ]
    },
    {
     "data": {
      "text/html": [
       "<div>\n",
       "<style scoped>\n",
       "    .dataframe tbody tr th:only-of-type {\n",
       "        vertical-align: middle;\n",
       "    }\n",
       "\n",
       "    .dataframe tbody tr th {\n",
       "        vertical-align: top;\n",
       "    }\n",
       "\n",
       "    .dataframe thead th {\n",
       "        text-align: right;\n",
       "    }\n",
       "</style>\n",
       "<table border=\"1\" class=\"dataframe\">\n",
       "  <thead>\n",
       "    <tr style=\"text-align: right;\">\n",
       "      <th></th>\n",
       "      <th>Age</th>\n",
       "      <th>Gender</th>\n",
       "      <th>Polyuria (frequent urination)</th>\n",
       "      <th>Polydipsia(excessive thirst)</th>\n",
       "      <th>weakness</th>\n",
       "      <th>visual blurring</th>\n",
       "      <th>Result</th>\n",
       "    </tr>\n",
       "  </thead>\n",
       "  <tbody>\n",
       "    <tr>\n",
       "      <th>0</th>\n",
       "      <td>40</td>\n",
       "      <td>1</td>\n",
       "      <td>0</td>\n",
       "      <td>1</td>\n",
       "      <td>1</td>\n",
       "      <td>0</td>\n",
       "      <td>1</td>\n",
       "    </tr>\n",
       "    <tr>\n",
       "      <th>1</th>\n",
       "      <td>58</td>\n",
       "      <td>1</td>\n",
       "      <td>0</td>\n",
       "      <td>0</td>\n",
       "      <td>1</td>\n",
       "      <td>1</td>\n",
       "      <td>1</td>\n",
       "    </tr>\n",
       "    <tr>\n",
       "      <th>2</th>\n",
       "      <td>41</td>\n",
       "      <td>1</td>\n",
       "      <td>1</td>\n",
       "      <td>0</td>\n",
       "      <td>1</td>\n",
       "      <td>0</td>\n",
       "      <td>1</td>\n",
       "    </tr>\n",
       "    <tr>\n",
       "      <th>3</th>\n",
       "      <td>45</td>\n",
       "      <td>1</td>\n",
       "      <td>0</td>\n",
       "      <td>0</td>\n",
       "      <td>1</td>\n",
       "      <td>0</td>\n",
       "      <td>1</td>\n",
       "    </tr>\n",
       "    <tr>\n",
       "      <th>4</th>\n",
       "      <td>60</td>\n",
       "      <td>1</td>\n",
       "      <td>1</td>\n",
       "      <td>1</td>\n",
       "      <td>1</td>\n",
       "      <td>1</td>\n",
       "      <td>1</td>\n",
       "    </tr>\n",
       "    <tr>\n",
       "      <th>...</th>\n",
       "      <td>...</td>\n",
       "      <td>...</td>\n",
       "      <td>...</td>\n",
       "      <td>...</td>\n",
       "      <td>...</td>\n",
       "      <td>...</td>\n",
       "      <td>...</td>\n",
       "    </tr>\n",
       "    <tr>\n",
       "      <th>515</th>\n",
       "      <td>39</td>\n",
       "      <td>0</td>\n",
       "      <td>1</td>\n",
       "      <td>1</td>\n",
       "      <td>0</td>\n",
       "      <td>0</td>\n",
       "      <td>1</td>\n",
       "    </tr>\n",
       "    <tr>\n",
       "      <th>516</th>\n",
       "      <td>48</td>\n",
       "      <td>0</td>\n",
       "      <td>1</td>\n",
       "      <td>1</td>\n",
       "      <td>1</td>\n",
       "      <td>0</td>\n",
       "      <td>1</td>\n",
       "    </tr>\n",
       "    <tr>\n",
       "      <th>517</th>\n",
       "      <td>58</td>\n",
       "      <td>0</td>\n",
       "      <td>1</td>\n",
       "      <td>1</td>\n",
       "      <td>1</td>\n",
       "      <td>1</td>\n",
       "      <td>1</td>\n",
       "    </tr>\n",
       "    <tr>\n",
       "      <th>518</th>\n",
       "      <td>32</td>\n",
       "      <td>0</td>\n",
       "      <td>0</td>\n",
       "      <td>0</td>\n",
       "      <td>1</td>\n",
       "      <td>1</td>\n",
       "      <td>0</td>\n",
       "    </tr>\n",
       "    <tr>\n",
       "      <th>519</th>\n",
       "      <td>42</td>\n",
       "      <td>1</td>\n",
       "      <td>0</td>\n",
       "      <td>0</td>\n",
       "      <td>0</td>\n",
       "      <td>0</td>\n",
       "      <td>0</td>\n",
       "    </tr>\n",
       "  </tbody>\n",
       "</table>\n",
       "<p>520 rows × 7 columns</p>\n",
       "</div>"
      ],
      "text/plain": [
       "     Age  Gender  Polyuria (frequent urination)  Polydipsia(excessive thirst)  \\\n",
       "0     40       1                              0                             1   \n",
       "1     58       1                              0                             0   \n",
       "2     41       1                              1                             0   \n",
       "3     45       1                              0                             0   \n",
       "4     60       1                              1                             1   \n",
       "..   ...     ...                            ...                           ...   \n",
       "515   39       0                              1                             1   \n",
       "516   48       0                              1                             1   \n",
       "517   58       0                              1                             1   \n",
       "518   32       0                              0                             0   \n",
       "519   42       1                              0                             0   \n",
       "\n",
       "     weakness  visual blurring  Result  \n",
       "0           1                0       1  \n",
       "1           1                1       1  \n",
       "2           1                0       1  \n",
       "3           1                0       1  \n",
       "4           1                1       1  \n",
       "..        ...              ...     ...  \n",
       "515         0                0       1  \n",
       "516         1                0       1  \n",
       "517         1                1       1  \n",
       "518         1                1       0  \n",
       "519         0                0       0  \n",
       "\n",
       "[520 rows x 7 columns]"
      ]
     },
     "execution_count": 40,
     "metadata": {},
     "output_type": "execute_result"
    }
   ],
   "source": [
    "# Load your dataset\n",
    "# Assuming 'filtered.csv' contains your dataset\n",
    "df = pd.read_csv('final dataset.csv')\n",
    "df.drop(df.columns.difference(['Age','Gender','Polyuria (frequent urination)','Polydipsia(excessive thirst)','weakness','visual blurring','Result']), 1, inplace=True)\n",
    "df\n"
   ]
  },
  {
   "cell_type": "code",
   "execution_count": 41,
   "id": "33c8ca4f",
   "metadata": {},
   "outputs": [
    {
     "data": {
      "text/plain": [
       "(520, 7)"
      ]
     },
     "execution_count": 41,
     "metadata": {},
     "output_type": "execute_result"
    }
   ],
   "source": [
    "df.shape"
   ]
  },
  {
   "cell_type": "code",
   "execution_count": 42,
   "id": "54be295a",
   "metadata": {},
   "outputs": [
    {
     "data": {
      "text/html": [
       "<div>\n",
       "<style scoped>\n",
       "    .dataframe tbody tr th:only-of-type {\n",
       "        vertical-align: middle;\n",
       "    }\n",
       "\n",
       "    .dataframe tbody tr th {\n",
       "        vertical-align: top;\n",
       "    }\n",
       "\n",
       "    .dataframe thead th {\n",
       "        text-align: right;\n",
       "    }\n",
       "</style>\n",
       "<table border=\"1\" class=\"dataframe\">\n",
       "  <thead>\n",
       "    <tr style=\"text-align: right;\">\n",
       "      <th></th>\n",
       "      <th>Age</th>\n",
       "      <th>Gender</th>\n",
       "      <th>Polyuria (frequent urination)</th>\n",
       "      <th>Polydipsia(excessive thirst)</th>\n",
       "      <th>weakness</th>\n",
       "      <th>visual blurring</th>\n",
       "      <th>Result</th>\n",
       "    </tr>\n",
       "  </thead>\n",
       "  <tbody>\n",
       "    <tr>\n",
       "      <th>0</th>\n",
       "      <td>40</td>\n",
       "      <td>1</td>\n",
       "      <td>0</td>\n",
       "      <td>1</td>\n",
       "      <td>1</td>\n",
       "      <td>0</td>\n",
       "      <td>1</td>\n",
       "    </tr>\n",
       "    <tr>\n",
       "      <th>1</th>\n",
       "      <td>58</td>\n",
       "      <td>1</td>\n",
       "      <td>0</td>\n",
       "      <td>0</td>\n",
       "      <td>1</td>\n",
       "      <td>1</td>\n",
       "      <td>1</td>\n",
       "    </tr>\n",
       "    <tr>\n",
       "      <th>2</th>\n",
       "      <td>41</td>\n",
       "      <td>1</td>\n",
       "      <td>1</td>\n",
       "      <td>0</td>\n",
       "      <td>1</td>\n",
       "      <td>0</td>\n",
       "      <td>1</td>\n",
       "    </tr>\n",
       "    <tr>\n",
       "      <th>3</th>\n",
       "      <td>45</td>\n",
       "      <td>1</td>\n",
       "      <td>0</td>\n",
       "      <td>0</td>\n",
       "      <td>1</td>\n",
       "      <td>0</td>\n",
       "      <td>1</td>\n",
       "    </tr>\n",
       "    <tr>\n",
       "      <th>4</th>\n",
       "      <td>60</td>\n",
       "      <td>1</td>\n",
       "      <td>1</td>\n",
       "      <td>1</td>\n",
       "      <td>1</td>\n",
       "      <td>1</td>\n",
       "      <td>1</td>\n",
       "    </tr>\n",
       "    <tr>\n",
       "      <th>...</th>\n",
       "      <td>...</td>\n",
       "      <td>...</td>\n",
       "      <td>...</td>\n",
       "      <td>...</td>\n",
       "      <td>...</td>\n",
       "      <td>...</td>\n",
       "      <td>...</td>\n",
       "    </tr>\n",
       "    <tr>\n",
       "      <th>515</th>\n",
       "      <td>39</td>\n",
       "      <td>0</td>\n",
       "      <td>1</td>\n",
       "      <td>1</td>\n",
       "      <td>0</td>\n",
       "      <td>0</td>\n",
       "      <td>1</td>\n",
       "    </tr>\n",
       "    <tr>\n",
       "      <th>516</th>\n",
       "      <td>48</td>\n",
       "      <td>0</td>\n",
       "      <td>1</td>\n",
       "      <td>1</td>\n",
       "      <td>1</td>\n",
       "      <td>0</td>\n",
       "      <td>1</td>\n",
       "    </tr>\n",
       "    <tr>\n",
       "      <th>517</th>\n",
       "      <td>58</td>\n",
       "      <td>0</td>\n",
       "      <td>1</td>\n",
       "      <td>1</td>\n",
       "      <td>1</td>\n",
       "      <td>1</td>\n",
       "      <td>1</td>\n",
       "    </tr>\n",
       "    <tr>\n",
       "      <th>518</th>\n",
       "      <td>32</td>\n",
       "      <td>0</td>\n",
       "      <td>0</td>\n",
       "      <td>0</td>\n",
       "      <td>1</td>\n",
       "      <td>1</td>\n",
       "      <td>0</td>\n",
       "    </tr>\n",
       "    <tr>\n",
       "      <th>519</th>\n",
       "      <td>42</td>\n",
       "      <td>1</td>\n",
       "      <td>0</td>\n",
       "      <td>0</td>\n",
       "      <td>0</td>\n",
       "      <td>0</td>\n",
       "      <td>0</td>\n",
       "    </tr>\n",
       "  </tbody>\n",
       "</table>\n",
       "<p>520 rows × 7 columns</p>\n",
       "</div>"
      ],
      "text/plain": [
       "     Age  Gender  Polyuria (frequent urination)  Polydipsia(excessive thirst)  \\\n",
       "0     40       1                              0                             1   \n",
       "1     58       1                              0                             0   \n",
       "2     41       1                              1                             0   \n",
       "3     45       1                              0                             0   \n",
       "4     60       1                              1                             1   \n",
       "..   ...     ...                            ...                           ...   \n",
       "515   39       0                              1                             1   \n",
       "516   48       0                              1                             1   \n",
       "517   58       0                              1                             1   \n",
       "518   32       0                              0                             0   \n",
       "519   42       1                              0                             0   \n",
       "\n",
       "     weakness  visual blurring  Result  \n",
       "0           1                0       1  \n",
       "1           1                1       1  \n",
       "2           1                0       1  \n",
       "3           1                0       1  \n",
       "4           1                1       1  \n",
       "..        ...              ...     ...  \n",
       "515         0                0       1  \n",
       "516         1                0       1  \n",
       "517         1                1       1  \n",
       "518         1                1       0  \n",
       "519         0                0       0  \n",
       "\n",
       "[520 rows x 7 columns]"
      ]
     },
     "execution_count": 42,
     "metadata": {},
     "output_type": "execute_result"
    }
   ],
   "source": [
    "df"
   ]
  },
  {
   "cell_type": "code",
   "execution_count": 43,
   "id": "62804df3",
   "metadata": {},
   "outputs": [
    {
     "data": {
      "text/html": [
       "<div>\n",
       "<style scoped>\n",
       "    .dataframe tbody tr th:only-of-type {\n",
       "        vertical-align: middle;\n",
       "    }\n",
       "\n",
       "    .dataframe tbody tr th {\n",
       "        vertical-align: top;\n",
       "    }\n",
       "\n",
       "    .dataframe thead th {\n",
       "        text-align: right;\n",
       "    }\n",
       "</style>\n",
       "<table border=\"1\" class=\"dataframe\">\n",
       "  <thead>\n",
       "    <tr style=\"text-align: right;\">\n",
       "      <th></th>\n",
       "      <th>Age</th>\n",
       "      <th>Gender</th>\n",
       "      <th>Polyuria (frequent urination)</th>\n",
       "      <th>Polydipsia(excessive thirst)</th>\n",
       "      <th>weakness</th>\n",
       "      <th>visual blurring</th>\n",
       "      <th>Result</th>\n",
       "    </tr>\n",
       "  </thead>\n",
       "  <tbody>\n",
       "    <tr>\n",
       "      <th>1</th>\n",
       "      <td>58</td>\n",
       "      <td>1</td>\n",
       "      <td>0</td>\n",
       "      <td>0</td>\n",
       "      <td>1</td>\n",
       "      <td>1</td>\n",
       "      <td>1</td>\n",
       "    </tr>\n",
       "    <tr>\n",
       "      <th>4</th>\n",
       "      <td>60</td>\n",
       "      <td>1</td>\n",
       "      <td>1</td>\n",
       "      <td>1</td>\n",
       "      <td>1</td>\n",
       "      <td>1</td>\n",
       "      <td>1</td>\n",
       "    </tr>\n",
       "    <tr>\n",
       "      <th>5</th>\n",
       "      <td>55</td>\n",
       "      <td>1</td>\n",
       "      <td>1</td>\n",
       "      <td>1</td>\n",
       "      <td>1</td>\n",
       "      <td>1</td>\n",
       "      <td>1</td>\n",
       "    </tr>\n",
       "    <tr>\n",
       "      <th>6</th>\n",
       "      <td>57</td>\n",
       "      <td>1</td>\n",
       "      <td>1</td>\n",
       "      <td>1</td>\n",
       "      <td>1</td>\n",
       "      <td>0</td>\n",
       "      <td>1</td>\n",
       "    </tr>\n",
       "    <tr>\n",
       "      <th>7</th>\n",
       "      <td>66</td>\n",
       "      <td>1</td>\n",
       "      <td>1</td>\n",
       "      <td>1</td>\n",
       "      <td>1</td>\n",
       "      <td>1</td>\n",
       "      <td>1</td>\n",
       "    </tr>\n",
       "    <tr>\n",
       "      <th>...</th>\n",
       "      <td>...</td>\n",
       "      <td>...</td>\n",
       "      <td>...</td>\n",
       "      <td>...</td>\n",
       "      <td>...</td>\n",
       "      <td>...</td>\n",
       "      <td>...</td>\n",
       "    </tr>\n",
       "    <tr>\n",
       "      <th>508</th>\n",
       "      <td>58</td>\n",
       "      <td>1</td>\n",
       "      <td>0</td>\n",
       "      <td>0</td>\n",
       "      <td>1</td>\n",
       "      <td>0</td>\n",
       "      <td>0</td>\n",
       "    </tr>\n",
       "    <tr>\n",
       "      <th>510</th>\n",
       "      <td>67</td>\n",
       "      <td>1</td>\n",
       "      <td>0</td>\n",
       "      <td>0</td>\n",
       "      <td>1</td>\n",
       "      <td>0</td>\n",
       "      <td>0</td>\n",
       "    </tr>\n",
       "    <tr>\n",
       "      <th>511</th>\n",
       "      <td>66</td>\n",
       "      <td>1</td>\n",
       "      <td>0</td>\n",
       "      <td>0</td>\n",
       "      <td>1</td>\n",
       "      <td>1</td>\n",
       "      <td>0</td>\n",
       "    </tr>\n",
       "    <tr>\n",
       "      <th>513</th>\n",
       "      <td>62</td>\n",
       "      <td>0</td>\n",
       "      <td>1</td>\n",
       "      <td>1</td>\n",
       "      <td>1</td>\n",
       "      <td>1</td>\n",
       "      <td>1</td>\n",
       "    </tr>\n",
       "    <tr>\n",
       "      <th>517</th>\n",
       "      <td>58</td>\n",
       "      <td>0</td>\n",
       "      <td>1</td>\n",
       "      <td>1</td>\n",
       "      <td>1</td>\n",
       "      <td>1</td>\n",
       "      <td>1</td>\n",
       "    </tr>\n",
       "  </tbody>\n",
       "</table>\n",
       "<p>157 rows × 7 columns</p>\n",
       "</div>"
      ],
      "text/plain": [
       "     Age  Gender  Polyuria (frequent urination)  Polydipsia(excessive thirst)  \\\n",
       "1     58       1                              0                             0   \n",
       "4     60       1                              1                             1   \n",
       "5     55       1                              1                             1   \n",
       "6     57       1                              1                             1   \n",
       "7     66       1                              1                             1   \n",
       "..   ...     ...                            ...                           ...   \n",
       "508   58       1                              0                             0   \n",
       "510   67       1                              0                             0   \n",
       "511   66       1                              0                             0   \n",
       "513   62       0                              1                             1   \n",
       "517   58       0                              1                             1   \n",
       "\n",
       "     weakness  visual blurring  Result  \n",
       "1           1                1       1  \n",
       "4           1                1       1  \n",
       "5           1                1       1  \n",
       "6           1                0       1  \n",
       "7           1                1       1  \n",
       "..        ...              ...     ...  \n",
       "508         1                0       0  \n",
       "510         1                0       0  \n",
       "511         1                1       0  \n",
       "513         1                1       1  \n",
       "517         1                1       1  \n",
       "\n",
       "[157 rows x 7 columns]"
      ]
     },
     "execution_count": 43,
     "metadata": {},
     "output_type": "execute_result"
    }
   ],
   "source": [
    "# Filter data based on age\n",
    "df_filtered = df[(df['Age'] >= 55) & (df['Age'] <= 75)]\n",
    "df_filtered"
   ]
  },
  {
   "cell_type": "code",
   "execution_count": 44,
   "id": "b746fb43",
   "metadata": {},
   "outputs": [
    {
     "data": {
      "text/plain": [
       "(157, 7)"
      ]
     },
     "execution_count": 44,
     "metadata": {},
     "output_type": "execute_result"
    }
   ],
   "source": [
    "df_filtered.shape"
   ]
  },
  {
   "cell_type": "code",
   "execution_count": 45,
   "id": "ff9efa07",
   "metadata": {},
   "outputs": [],
   "source": [
    "# Check if there are any rows left after filtering\n",
    "if df_filtered.empty:\n",
    "    print(\"No data within the specified age range.\")\n",
    "else:\n",
    "    # Separate features (X) and target variable (y)\n",
    "    X = df_filtered.drop('Result', axis=1)\n",
    "    y = df_filtered['Result']"
   ]
  },
  {
   "cell_type": "code",
   "execution_count": 46,
   "id": "5d8df2bd",
   "metadata": {},
   "outputs": [],
   "source": [
    "# Split the filtered data into training and testing sets\n",
    "X_train, X_test, y_train, y_test = train_test_split(X, y, test_size=0.2, random_state=42)\n"
   ]
  },
  {
   "cell_type": "code",
   "execution_count": 47,
   "id": "e1b16c03",
   "metadata": {},
   "outputs": [],
   "source": [
    " # Initialize the RandomForestRegressor\n",
    "reg = RandomForestRegressor(random_state=42)"
   ]
  },
  {
   "cell_type": "code",
   "execution_count": 48,
   "id": "7192d4bd",
   "metadata": {},
   "outputs": [
    {
     "data": {
      "text/plain": [
       "RandomForestRegressor(random_state=42)"
      ]
     },
     "execution_count": 48,
     "metadata": {},
     "output_type": "execute_result"
    }
   ],
   "source": [
    "# Train the model\n",
    "reg.fit(X_train, y_train)"
   ]
  },
  {
   "cell_type": "code",
   "execution_count": 49,
   "id": "175dea5f",
   "metadata": {},
   "outputs": [],
   "source": [
    "# Make predictions on the test set\n",
    "y_pred = reg.predict(X_test)"
   ]
  },
  {
   "cell_type": "code",
   "execution_count": 50,
   "id": "392c65a1",
   "metadata": {},
   "outputs": [],
   "source": [
    "# Convert predictions to binary (1 or 0) based on a threshold\n",
    "threshold = 0.5\n",
    "y_pred_binary = (y_pred >= threshold).astype(int)"
   ]
  },
  {
   "cell_type": "code",
   "execution_count": 51,
   "id": "6babf892",
   "metadata": {},
   "outputs": [],
   "source": [
    "# Get the number of correct predictions and total number of predictions\n",
    "correct_predictions = accuracy_score(y_test, y_pred_binary, normalize=False)\n",
    "total_predictions = len(y_test)"
   ]
  },
  {
   "cell_type": "code",
   "execution_count": 52,
   "id": "b50d6986",
   "metadata": {},
   "outputs": [
    {
     "name": "stdout",
     "output_type": "stream",
     "text": [
      "Number of Correct Predictions: 31\n",
      "Total Number of Predictions: 32\n"
     ]
    }
   ],
   "source": [
    "# Display results\n",
    "print(f\"Number of Correct Predictions: {correct_predictions}\")\n",
    "print(f\"Total Number of Predictions: {total_predictions}\")"
   ]
  },
  {
   "cell_type": "code",
   "execution_count": 53,
   "id": "a483e94f",
   "metadata": {},
   "outputs": [],
   "source": [
    "# Evaluate the model\n",
    "mae = mean_absolute_error(y_test, y_pred)\n",
    "mse = mean_squared_error(y_test, y_pred)"
   ]
  },
  {
   "cell_type": "code",
   "execution_count": 54,
   "id": "b0d10f4b",
   "metadata": {},
   "outputs": [
    {
     "name": "stdout",
     "output_type": "stream",
     "text": [
      "Mean Absolute Error: 0.09280208333333334\n",
      "Mean Squared Error: 0.027105331597222223\n"
     ]
    }
   ],
   "source": [
    "# Display results\n",
    "print(f\"Mean Absolute Error: {mae}\")\n",
    "print(f\"Mean Squared Error: {mse}\")"
   ]
  },
  {
   "cell_type": "code",
   "execution_count": 55,
   "id": "5caf1485",
   "metadata": {},
   "outputs": [],
   "source": [
    "# Compute ROC curve\n",
    "fpr, tpr, thresholds = roc_curve(y_test, y_pred_binary)\n",
    "roc_auc = auc(fpr, tpr)"
   ]
  },
  {
   "cell_type": "code",
   "execution_count": 56,
   "id": "cd6e0830",
   "metadata": {},
   "outputs": [
    {
     "data": {
      "image/png": "[encoded data removed]",
      "text/plain": [
       "<Figure size 800x800 with 1 Axes>"
      ]
     },
     "metadata": {},
     "output_type": "display_data"
    }
   ],
   "source": [
    "# Plot ROC curve\n",
    "plt.figure(figsize=(8, 8))\n",
    "plt.plot(fpr, tpr, color='darkorange', lw=2, label=f'ROC curve (AUC = {roc_auc:.2f})')\n",
    "plt.plot([0, 1], [0, 1], color='navy', lw=2, linestyle='--')\n",
    "plt.xlim([0.0, 1.0])\n",
    "plt.ylim([0.0, 1.05])\n",
    "plt.xlabel('False Positive Rate')\n",
    "plt.ylabel('True Positive Rate')\n",
    "plt.title('Receiver Operating Characteristic (ROC) Curve')\n",
    "plt.legend(loc='lower right')\n",
    "plt.show()"
   ]
  },
  {
   "cell_type": "code",
   "execution_count": 77,
   "id": "a9f4ad85",
   "metadata": {},
   "outputs": [],
   "source": [
    "# Specify your new data point for prediction\n",
    "new_data_point = np.array([[65, 1, 1, 0,0,0]])\n"
   ]
  },
  {
   "cell_type": "code",
   "execution_count": 78,
   "id": "9c052e77",
   "metadata": {},
   "outputs": [
    {
     "name": "stderr",
     "output_type": "stream",
     "text": [
      "C:\\ProgramData\\Anaconda3\\lib\\site-packages\\sklearn\\base.py:451: UserWarning: X does not have valid feature names, but RandomForestRegressor was fitted with feature names\n",
      "  \"X does not have valid feature names, but\"\n"
     ]
    }
   ],
   "source": [
    "# Make predictions on the new data point\n",
    "new_data_point_pred = reg.predict(new_data_point)\n",
    "new_data_point_pred_binary = (new_data_point_pred >= threshold).astype(int)"
   ]
  },
  {
   "cell_type": "code",
   "execution_count": 79,
   "id": "37a8ce94",
   "metadata": {},
   "outputs": [
    {
     "name": "stdout",
     "output_type": "stream",
     "text": [
      "Accuracy of the Model: 0.97\n"
     ]
    }
   ],
   "source": [
    "# print the accuracy ratio\n",
    "accuracy_ratio = accuracy_score(y_test, y_pred_binary)\n",
    "print(f\"Accuracy of the Model: {accuracy_ratio:.2f}\")"
   ]
  },
  {
   "cell_type": "code",
   "execution_count": 80,
   "id": "cd88b546",
   "metadata": {},
   "outputs": [
    {
     "name": "stdout",
     "output_type": "stream",
     "text": [
      "You are prone to diabetes.\n"
     ]
    }
   ],
   "source": [
    "# Check if the patient is prone to diabetes based on a threshold\n",
    "if y_pred[0] >= threshold:\n",
    "    print(\"You are prone to diabetes.\")\n",
    "else:\n",
    "    print(\"You are not prone to diabetes.\")"
   ]
  },
  {
   "cell_type": "code",
   "execution_count": 71,
   "id": "92dc8482",
   "metadata": {},
   "outputs": [
    {
     "data": {
      "text/plain": [
       "['random_forest_model.pkl']"
      ]
     },
     "execution_count": 71,
     "metadata": {},
     "output_type": "execute_result"
    }
   ],
   "source": [
    "# joblib.dump(reg, 'random_forest_model.pkl')\n"
   ]
  },
  {
   "cell_type": "code",
   "execution_count": null,
   "id": "b74abe7e",
   "metadata": {},
   "outputs": [],
   "source": []
  },
  {
   "cell_type": "code",
   "execution_count": 82,
   "id": "6fd45ba8",
   "metadata": {},
   "outputs": [
    {
     "name": "stdout",
     "output_type": "stream",
     "text": [
      "For combination (0,0,0,0): You are prone to diabetes.\n",
      "For combination (0,0,0,1): You are not prone to diabetes.\n",
      "For combination (0,0,1,0): You are not prone to diabetes.\n",
      "For combination (0,0,1,1): You are not prone to diabetes.\n",
      "For combination (0,1,0,0): You are prone to diabetes.\n",
      "For combination (0,1,0,1): You are prone to diabetes.\n",
      "For combination (0,1,1,0): You are prone to diabetes.\n",
      "For combination (0,1,1,1): You are prone to diabetes.\n",
      "For combination (1,0,0,0): You are prone to diabetes.\n",
      "For combination (1,0,0,1): You are not prone to diabetes.\n",
      "For combination (1,0,1,0): You are prone to diabetes.\n",
      "For combination (1,0,1,1): You are not prone to diabetes.\n",
      "For combination (1,1,0,0): You are prone to diabetes.\n",
      "For combination (1,1,0,1): You are prone to diabetes.\n",
      "For combination (1,1,1,0): You are prone to diabetes.\n",
      "For combination (1,1,1,1): You are prone to diabetes.\n"
     ]
    },
    {
     "name": "stderr",
     "output_type": "stream",
     "text": [
      "C:\\ProgramData\\Anaconda3\\lib\\site-packages\\sklearn\\base.py:451: UserWarning: X does not have valid feature names, but RandomForestRegressor was fitted with feature names\n",
      "  \"X does not have valid feature names, but\"\n",
      "C:\\ProgramData\\Anaconda3\\lib\\site-packages\\sklearn\\base.py:451: UserWarning: X does not have valid feature names, but RandomForestRegressor was fitted with feature names\n",
      "  \"X does not have valid feature names, but\"\n",
      "C:\\ProgramData\\Anaconda3\\lib\\site-packages\\sklearn\\base.py:451: UserWarning: X does not have valid feature names, but RandomForestRegressor was fitted with feature names\n",
      "  \"X does not have valid feature names, but\"\n",
      "C:\\ProgramData\\Anaconda3\\lib\\site-packages\\sklearn\\base.py:451: UserWarning: X does not have valid feature names, but RandomForestRegressor was fitted with feature names\n",
      "  \"X does not have valid feature names, but\"\n",
      "C:\\ProgramData\\Anaconda3\\lib\\site-packages\\sklearn\\base.py:451: UserWarning: X does not have valid feature names, but RandomForestRegressor was fitted with feature names\n",
      "  \"X does not have valid feature names, but\"\n",
      "C:\\ProgramData\\Anaconda3\\lib\\site-packages\\sklearn\\base.py:451: UserWarning: X does not have valid feature names, but RandomForestRegressor was fitted with feature names\n",
      "  \"X does not have valid feature names, but\"\n",
      "C:\\ProgramData\\Anaconda3\\lib\\site-packages\\sklearn\\base.py:451: UserWarning: X does not have valid feature names, but RandomForestRegressor was fitted with feature names\n",
      "  \"X does not have valid feature names, but\"\n",
      "C:\\ProgramData\\Anaconda3\\lib\\site-packages\\sklearn\\base.py:451: UserWarning: X does not have valid feature names, but RandomForestRegressor was fitted with feature names\n",
      "  \"X does not have valid feature names, but\"\n",
      "C:\\ProgramData\\Anaconda3\\lib\\site-packages\\sklearn\\base.py:451: UserWarning: X does not have valid feature names, but RandomForestRegressor was fitted with feature names\n",
      "  \"X does not have valid feature names, but\"\n",
      "C:\\ProgramData\\Anaconda3\\lib\\site-packages\\sklearn\\base.py:451: UserWarning: X does not have valid feature names, but RandomForestRegressor was fitted with feature names\n",
      "  \"X does not have valid feature names, but\"\n",
      "C:\\ProgramData\\Anaconda3\\lib\\site-packages\\sklearn\\base.py:451: UserWarning: X does not have valid feature names, but RandomForestRegressor was fitted with feature names\n",
      "  \"X does not have valid feature names, but\"\n",
      "C:\\ProgramData\\Anaconda3\\lib\\site-packages\\sklearn\\base.py:451: UserWarning: X does not have valid feature names, but RandomForestRegressor was fitted with feature names\n",
      "  \"X does not have valid feature names, but\"\n",
      "C:\\ProgramData\\Anaconda3\\lib\\site-packages\\sklearn\\base.py:451: UserWarning: X does not have valid feature names, but RandomForestRegressor was fitted with feature names\n",
      "  \"X does not have valid feature names, but\"\n",
      "C:\\ProgramData\\Anaconda3\\lib\\site-packages\\sklearn\\base.py:451: UserWarning: X does not have valid feature names, but RandomForestRegressor was fitted with feature names\n",
      "  \"X does not have valid feature names, but\"\n",
      "C:\\ProgramData\\Anaconda3\\lib\\site-packages\\sklearn\\base.py:451: UserWarning: X does not have valid feature names, but RandomForestRegressor was fitted with feature names\n",
      "  \"X does not have valid feature names, but\"\n",
      "C:\\ProgramData\\Anaconda3\\lib\\site-packages\\sklearn\\base.py:451: UserWarning: X does not have valid feature names, but RandomForestRegressor was fitted with feature names\n",
      "  \"X does not have valid feature names, but\"\n"
     ]
    }
   ],
   "source": [
    "import numpy as np\n",
    "\n",
    "def predict_diabetes(i, j, k, l, threshold, reg):\n",
    "    new_data_point = np.array([[65, 1, i, j, k, l]])\n",
    "    new_data_point_pred = reg.predict(new_data_point)\n",
    "    new_data_point_pred_binary = (new_data_point_pred >= threshold).astype(int)\n",
    "    if new_data_point_pred_binary[0] == 1:\n",
    "        print(f\"For combination ({i},{j},{k},{l}): You are prone to diabetes.\")\n",
    "    else:\n",
    "        print(f\"For combination ({i},{j},{k},{l}): You are not prone to diabetes.\")\n",
    "\n",
    "def generate_combinations_and_predict(threshold, reg):\n",
    "    for i in range(2):\n",
    "        for j in range(2):\n",
    "            for k in range(2):\n",
    "                for l in range(2):\n",
    "                    predict_diabetes(i, j, k, l, threshold, reg)\n",
    "\n",
    "# Assuming you have defined threshold and reg somewhere before\n",
    "threshold = 0.5  # Example threshold\n",
    "\n",
    "\n",
    "generate_combinations_and_predict(threshold, reg)\n"
   ]
  },
  {
   "cell_type": "code",
   "execution_count": null,
   "id": "b4095ace",
   "metadata": {},
   "outputs": [],
   "source": []
  }
 ],
 "metadata": {
  "kernelspec": {
   "display_name": "Python 3 (ipykernel)",
   "language": "python",
   "name": "python3"
  },
  "language_info": {
   "codemirror_mode": {
    "name": "ipython",
    "version": 3
   },
   "file_extension": ".py",
   "mimetype": "text/x-python",
   "name": "python",
   "nbconvert_exporter": "python",
   "pygments_lexer": "ipython3",
   "version": "3.10.7"
  }
 },
 "nbformat": 4,
 "nbformat_minor": 5
}
